{
 "cells": [
  {
   "cell_type": "code",
   "execution_count": 9,
   "metadata": {
    "collapsed": true
   },
   "outputs": [],
   "source": [
    "import pickle\n",
    "import numpy as np\n",
    "import pandas as pd"
   ]
  },
  {
   "cell_type": "code",
   "execution_count": 3,
   "metadata": {
    "collapsed": true
   },
   "outputs": [],
   "source": [
    "alldata_new = pickle.load(open('output/20topics_newpreprocess_dict.p', 'rb'))\n",
    "term_topic = alldata_new['term_topic']\n",
    "doc_topic = alldata_new['doc_topic']\n",
    "doc_length = alldata_new['doc_length']\n",
    "term_frequency = alldata_new['term_frequency']\n",
    "terms = alldata_new['terms']"
   ]
  },
  {
   "cell_type": "code",
   "execution_count": 25,
   "metadata": {},
   "outputs": [],
   "source": [
    "dd = list()\n",
    "\n",
    "for topic_num in range(20):\n",
    "    topic_np = term_topic[:,topic_num,:]\n",
    "    topidx = np.argsort(-topic_np.sum(0))[:100]\n",
    "    topic_np = topic_np[:,topidx]\n",
    "    df = pd.DataFrame(topic_np, columns=np.array(terms)[topidx])\n",
    "    df['year'] = range(2000, 2018)\n",
    "    df = df.melt(id_vars=['year'], var_name='word', value_name='frequency')\n",
    "    df['topic'] = topic_num\n",
    "    dd.append(df)\n",
    "\n",
    "year_topic_word = pd.concat(dd)"
   ]
  },
  {
   "cell_type": "code",
   "execution_count": 29,
   "metadata": {},
   "outputs": [],
   "source": [
    "year_topic_word.to_csv('year_topic_word.csv', index=False)"
   ]
  },
  {
   "cell_type": "code",
   "execution_count": null,
   "metadata": {
    "collapsed": true
   },
   "outputs": [],
   "source": []
  }
 ],
 "metadata": {
  "kernelspec": {
   "display_name": "Python 3",
   "language": "python",
   "name": "python3"
  },
  "language_info": {
   "codemirror_mode": {
    "name": "ipython",
    "version": 3
   },
   "file_extension": ".py",
   "mimetype": "text/x-python",
   "name": "python",
   "nbconvert_exporter": "python",
   "pygments_lexer": "ipython3",
   "version": "3.6.1"
  }
 },
 "nbformat": 4,
 "nbformat_minor": 2
}
