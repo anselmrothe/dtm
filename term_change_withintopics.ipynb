{
 "cells": [
  {
   "cell_type": "code",
   "execution_count": 1,
   "metadata": {
    "collapsed": true
   },
   "outputs": [],
   "source": [
    "import logging\n",
    "from gensim.models import ldaseqmodel\n",
    "from gensim.corpora import Dictionary, bleicorpus, textcorpus\n",
    "import numpy as np\n",
    "from gensim.matutils import hellinger\n",
    "import time\n",
    "import pickle\n",
    "import pyLDAvis\n",
    "import matplotlib.pyplot as plt\n",
    "\n",
    "from sklearn.preprocessing import StandardScaler # for simple pca\n",
    "from sklearn.decomposition import PCA\n",
    "\n",
    "# load data\n",
    "doc_year = [167,196,156,207,249,404,378,\n",
    "271,\n",
    "201,\n",
    "768,\n",
    "673,\n",
    "823,\n",
    "431,\n",
    "681,\n",
    "498,\n",
    "597,\n",
    "464,\n",
    "657]\n",
    "\n",
    "doc_ids =[0]+list(np.cumsum(doc_year))\n",
    "\n",
    "\n",
    "alldata_new = pickle.load(open('output/20topics_newpreprocess_dict.p', 'rb'))\n",
    "term_topic = alldata_new['term_topic']# term_topic is n_years*n_topics*n_terms\n",
    "term_frequency = alldata_new['term_frequency']#term_frequency is n_years*n_terms\n",
    "terms = alldata_new['terms']#terms is n_terms\n",
    "\n",
    "doc_topic = []\n",
    "doc_length=[]\n",
    "for year in range(len(term_topic)):    \n",
    "    doc_topic.append(alldata_new['doc_topic'][doc_ids[year]:doc_ids[year+1]])# doc_topic is nyear*n_docs given year*n_topics\n",
    "    doc_length.append(alldata_new['doc_length'][doc_ids[year]:doc_ids[year+1]]) #doc_length is nyear*n_docs given year"
   ]
  },
  {
   "cell_type": "code",
   "execution_count": 5,
   "metadata": {
    "collapsed": false
   },
   "outputs": [
    {
     "data": {
      "text/plain": [
       "417.5"
      ]
     },
     "execution_count": 5,
     "metadata": {},
     "output_type": "execute_result"
    }
   ],
   "source": [
    "from ggplot import *\n",
    "graphs = []\n",
    "for topic_num in range(20):\n",
    "    topic_np = term_topic[:,topic_num,:]\n",
    "    topidx = np.argsort(-topic_np.sum(0))[:10]\n",
    "    topic_np = topic_np[:,topidx]\n",
    "    df = pd.DataFrame(topic_np, columns=np.array(terms)[topidx])\n",
    "    df['year'] = range(18)\n",
    "    df = df.melt(id_vars=['year'], var_name='word', value_name='freq')\n",
    "    graphs.append(ggplot(aes(x='year', y='freq', color='word'), data=df) + geom_line())\n",
    "    \n",
    "for i, g in enumerate(graphs):\n",
    "    print('Topic Number:', i)\n",
    "    print(g)"
   ]
  }
 ],
 "metadata": {
  "kernelspec": {
   "display_name": "Python [Root]",
   "language": "python",
   "name": "Python [Root]"
  },
  "language_info": {
   "codemirror_mode": {
    "name": "ipython",
    "version": 3
   },
   "file_extension": ".py",
   "mimetype": "text/x-python",
   "name": "python",
   "nbconvert_exporter": "python",
   "pygments_lexer": "ipython3",
   "version": "3.5.2"
  }
 },
 "nbformat": 4,
 "nbformat_minor": 0
}
