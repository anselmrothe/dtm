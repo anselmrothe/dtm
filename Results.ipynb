{
 "cells": [
  {
   "cell_type": "markdown",
   "metadata": {},
   "source": [
    "## Changing meaning of \"network\"\n",
    "There are two major meanings of network in the history of cognitive science: first is as a cognitive modelling method, second is in the biological neural network. By separating the terms with increased or decreased weights in this topic over year, these two meanings and their change of popularity emerges:\n",
    "![rising trend of biological neural network](figures/network_topic/increase_terms.png)\n",
    "![falling trend of artificial neural network models](figures/network_topic/decrease_terms.png)\n",
    "We can also see this separation from the titles of most typical papers of this topic (i.e. papers with the highest weight on this topic).\n",
    "\n",
    "From 2000 to 2005, most typical papers are:\n",
    "\n",
    "2000: Representing Categories in Artificial Neural Networks Using Perceptual Derived Feature Networks\n",
    "2001: Neural Synchrony Through Controlled Tracking\n",
    "2002: Preventing Catastrophic Interference in Multiple-Sequence Learning Using Coupled Reverberating Elman Networks\n",
    "2003: A Split Model to Deal with Semantic Anomalies in the Task of Word Prediction\n",
    "2004: A Neural Model of Episodic and Semantic Spatiotemporal Memory\n",
    "2005: A Connectionist Implementation of Identical Elements\n",
    "\n",
    "From 2012-2017, most typical papers are:\n",
    "\n",
    "2012: How many Neurons for your Grandmother  Three Arguments for Localised Representations\n",
    "2013: Simultaneous unsupervised and supervised learning of cognitive functions in biologically plausible spiking neural networks\n",
    "2014: Learning and Variability in Spiking Neural Networks\n",
    "2015: Lateral Inhibition Overcomes Limits of Temporal Difference Learning\n",
    "2016: Improving with Practice A Neural Model of Mathematical Development\n",
    "2017: A Plausible Micro Neural Circuit for Decision-Making\n",
    "\n",
    "\n",
    "\n",
    "\n",
    "## rise of probabilistic topic\n",
    "### 1. rising trend\n",
    "![an apparent rising trend of probabilistic modeling topic](figures/topics.png)\n",
    "One of the most noticable trend is the rise of probabilistic modeling topic over recent years. \n",
    "\n",
    "### 2. the field of cogsci is becoming probabilistic?\n",
    "When we ask what contributes to this rising popularity, there are two possibilities: either more papers are dedicated to this topic specifically, or papers across different fields are all becoming a bit more probabilistic, i.e. their language becoming more similar to the prototyped probabilistic topics. If the latter is true, we would expect the term distribution over all papers becoming more similar to the distribution of this specific topic; if the former is true, we won't see this change of term composition. Mathematically, we can measure the similarity between term distributions by their KL divergence. \n",
    "Turns out: sort of decreasing....but not that clear...maybe should have compared with other topics\n",
    "\n",
    "\n"
   ]
  }
 ],
 "metadata": {
  "anaconda-cloud": {},
  "kernelspec": {
   "display_name": "Python [Root]",
   "language": "python",
   "name": "Python [Root]"
  },
  "language_info": {
   "codemirror_mode": {
    "name": "ipython",
    "version": 3
   },
   "file_extension": ".py",
   "mimetype": "text/x-python",
   "name": "python",
   "nbconvert_exporter": "python",
   "pygments_lexer": "ipython3",
   "version": "3.5.2"
  }
 },
 "nbformat": 4,
 "nbformat_minor": 0
}
