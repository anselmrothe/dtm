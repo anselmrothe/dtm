{
 "cells": [
  {
   "cell_type": "code",
   "execution_count": 1,
   "metadata": {
    "collapsed": true
   },
   "outputs": [],
   "source": [
    "# This script exports some data from the pickle file into a csv\n",
    "\n",
    "# output/dtm_processed_output.p -> output/csv/year_doc_topic.csv\n",
    "# output/dtm_processed_output.p -> output/csv/topicnames.csv\n",
    "# output/dtm_processed_output.p -> output/csv/year_topic_word.csv\n"
   ]
  },
  {
   "cell_type": "code",
   "execution_count": 2,
   "metadata": {
    "collapsed": true,
    "scrolled": true
   },
   "outputs": [],
   "source": [
    "import numpy as np\n",
    "import pandas as pd\n",
    "import pickle"
   ]
  },
  {
   "cell_type": "code",
   "execution_count": 3,
   "metadata": {
    "collapsed": true
   },
   "outputs": [],
   "source": [
    "alldata_new = pickle.load(open('output/dtm_processed_output.p', 'rb'))"
   ]
  },
  {
   "cell_type": "code",
   "execution_count": 4,
   "metadata": {
    "collapsed": true
   },
   "outputs": [],
   "source": [
    "term_topic = alldata_new['term_topic']\n",
    "doc_topic = alldata_new['doc_topic']\n",
    "docnames = alldata_new['docnames']\n",
    "terms = alldata_new['terms']\n",
    "docs_per_year = alldata_new['docs_per_year']"
   ]
  },
  {
   "cell_type": "code",
   "execution_count": 5,
   "metadata": {},
   "outputs": [
    {
     "data": {
      "text/plain": [
       "0.0022569877025296011"
      ]
     },
     "execution_count": 5,
     "metadata": {},
     "output_type": "execute_result"
    }
   ],
   "source": [
    "# structure of term_topic\n",
    "year = 0\n",
    "topic = 0\n",
    "term = 0\n",
    "prob = term_topic[year,topic,term]\n",
    "prob"
   ]
  },
  {
   "cell_type": "code",
   "execution_count": 6,
   "metadata": {
    "collapsed": true
   },
   "outputs": [],
   "source": [
    "topics = range(term_topic.shape[1])"
   ]
  },
  {
   "cell_type": "code",
   "execution_count": 7,
   "metadata": {},
   "outputs": [],
   "source": [
    "# # topic label = most frequent word given topic\n",
    "\n",
    "# def topic_label(topic, term_topic, terms):\n",
    "#     term_freqs = np.sum(term_topic[:,topic,:], axis = 0)\n",
    "#     max_term = np.argsort(-term_freqs)[0]\n",
    "#     return(terms[max_term])\n",
    "\n",
    "# topic_labels = [topic_label(topic, term_topic, terms) for topic in topics]\n",
    "\n",
    "\n",
    "## topic label = manually selected by us\n",
    "topicnames = pickle.load(open('topicnames.p', 'rb'))\n",
    "dd = pd.DataFrame()\n",
    "dd['topic'] = list(range(len(topicnames)))\n",
    "dd['topic_label'] = topicnames\n",
    "dd.to_csv('output/csv/topicnames.csv', index=False)"
   ]
  },
  {
   "cell_type": "code",
   "execution_count": 8,
   "metadata": {
    "collapsed": true
   },
   "outputs": [],
   "source": [
    "\n",
    "### GOAL:  p(topic|year)\n",
    "\n",
    "# create year_doc, that shows which document belongs to which year\n",
    "\n",
    "# use doc_topic, where doc_topic[doc,topic] has p(topic|doc)\n",
    "\n",
    "# create year_doc_topic.csv, \n",
    "# which has the probability of a given topic in a given document in a given year\n"
   ]
  },
  {
   "cell_type": "code",
   "execution_count": 9,
   "metadata": {},
   "outputs": [
    {
     "data": {
      "text/html": [
       "<div>\n",
       "<style>\n",
       "    .dataframe thead tr:only-child th {\n",
       "        text-align: right;\n",
       "    }\n",
       "\n",
       "    .dataframe thead th {\n",
       "        text-align: left;\n",
       "    }\n",
       "\n",
       "    .dataframe tbody tr th {\n",
       "        vertical-align: top;\n",
       "    }\n",
       "</style>\n",
       "<table border=\"1\" class=\"dataframe\">\n",
       "  <thead>\n",
       "    <tr style=\"text-align: right;\">\n",
       "      <th></th>\n",
       "      <th>doc_id</th>\n",
       "      <th>doc_name</th>\n",
       "      <th>year</th>\n",
       "    </tr>\n",
       "  </thead>\n",
       "  <tbody>\n",
       "    <tr>\n",
       "      <th>0</th>\n",
       "      <td>0</td>\n",
       "      <td>Using Referential Communication to Study Menta...</td>\n",
       "      <td>0</td>\n",
       "    </tr>\n",
       "    <tr>\n",
       "      <th>1</th>\n",
       "      <td>1</td>\n",
       "      <td>Ungrammatical Influences Evidence for Dynamica...</td>\n",
       "      <td>0</td>\n",
       "    </tr>\n",
       "    <tr>\n",
       "      <th>2</th>\n",
       "      <td>2</td>\n",
       "      <td>Point-Light Displays Illuminate the Abstract N...</td>\n",
       "      <td>0</td>\n",
       "    </tr>\n",
       "    <tr>\n",
       "      <th>3</th>\n",
       "      <td>3</td>\n",
       "      <td>Are Retrievals from Long-Term Memory Interrupt...</td>\n",
       "      <td>0</td>\n",
       "    </tr>\n",
       "    <tr>\n",
       "      <th>4</th>\n",
       "      <td>4</td>\n",
       "      <td>The Representational Effect in Complex Systems...</td>\n",
       "      <td>0</td>\n",
       "    </tr>\n",
       "  </tbody>\n",
       "</table>\n",
       "</div>"
      ],
      "text/plain": [
       "   doc_id                                           doc_name  year\n",
       "0       0  Using Referential Communication to Study Menta...     0\n",
       "1       1  Ungrammatical Influences Evidence for Dynamica...     0\n",
       "2       2  Point-Light Displays Illuminate the Abstract N...     0\n",
       "3       3  Are Retrievals from Long-Term Memory Interrupt...     0\n",
       "4       4  The Representational Effect in Complex Systems...     0"
      ]
     },
     "execution_count": 9,
     "metadata": {},
     "output_type": "execute_result"
    }
   ],
   "source": [
    "## year_doc:\n",
    "## which document belongs to which year\n",
    "\n",
    "year_doc_count=docs_per_year.copy()\n",
    "\n",
    "x = []\n",
    "year = 0\n",
    "doc_id = 0\n",
    "while year < len(year_doc_count):\n",
    "    if year_doc_count[year] == 0:\n",
    "        year += 1\n",
    "    else:\n",
    "        year_doc_count[year] -= 1\n",
    "        x.append({'year': year, 'doc_id': doc_id, 'doc_name': docnames[doc_id]})\n",
    "        doc_id += 1\n",
    "year_doc = pd.DataFrame(x)\n",
    "# year_doc = year_doc[['year','doc_id','doc_name']]\n",
    "year_doc.head()"
   ]
  },
  {
   "cell_type": "code",
   "execution_count": 10,
   "metadata": {
    "collapsed": true
   },
   "outputs": [],
   "source": [
    "## create year_doc_topic\n",
    "\n",
    "# replicate year_doc for each topic\n",
    "x = []\n",
    "for topic in topics:\n",
    "    dd = year_doc.copy()\n",
    "    dd['topic'] = topic\n",
    "    dd['topic_label'] = topicnames[topic]\n",
    "    x.append(dd)\n",
    "year_doc_topic = pd.concat(x)\n"
   ]
  },
  {
   "cell_type": "code",
   "execution_count": 11,
   "metadata": {},
   "outputs": [
    {
     "data": {
      "text/plain": [
       "3.0978935057764542e-05"
      ]
     },
     "execution_count": 11,
     "metadata": {},
     "output_type": "execute_result"
    }
   ],
   "source": [
    "# use doc_topic, where doc_topic[doc,topic] has p(topic|doc)\n",
    "doc_topic[0,0]"
   ]
  },
  {
   "cell_type": "code",
   "execution_count": 12,
   "metadata": {
    "collapsed": true
   },
   "outputs": [],
   "source": [
    "# given year and topic, go through docs from that year and get p(topic|doc)\n",
    "def get_prob(row):\n",
    "    return(doc_topic[row.doc_id, row.topic])\n",
    "\n",
    "year_doc_topic['prob'] = year_doc_topic.apply(get_prob, axis=1)  # apply get_prob for each row (axis=1)"
   ]
  },
  {
   "cell_type": "code",
   "execution_count": 13,
   "metadata": {},
   "outputs": [],
   "source": [
    "# save csv\n",
    "year_doc_topic.to_csv(\"output/csv/year_doc_topic.csv\", index=False)"
   ]
  },
  {
   "cell_type": "code",
   "execution_count": null,
   "metadata": {
    "collapsed": true
   },
   "outputs": [],
   "source": []
  },
  {
   "cell_type": "code",
   "execution_count": 14,
   "metadata": {
    "collapsed": true
   },
   "outputs": [],
   "source": [
    "## year_topic_word\n",
    "\n",
    "dd = list()\n",
    "\n",
    "for topic_num in range(20):\n",
    "    topic_np = term_topic[:,topic_num,:]\n",
    "#     topidx = np.argsort(-topic_np.sum(0))[:100]\n",
    "    topidx = np.argsort(-topic_np.sum(0))\n",
    "    topic_np = topic_np[:,topidx]\n",
    "    df = pd.DataFrame(topic_np, columns=np.array(terms)[topidx])\n",
    "    df['year'] = range(2000, 2018)\n",
    "    df = df.melt(id_vars=['year'], var_name='word', value_name='frequency')\n",
    "    df['topic'] = topic_num\n",
    "    dd.append(df)\n",
    "\n",
    "year_topic_word = pd.concat(dd)"
   ]
  },
  {
   "cell_type": "code",
   "execution_count": 15,
   "metadata": {
    "collapsed": true
   },
   "outputs": [],
   "source": [
    "## save csv\n",
    "year_topic_word.to_csv('output/csv/year_topic_word.csv', index=False)"
   ]
  },
  {
   "cell_type": "code",
   "execution_count": null,
   "metadata": {
    "collapsed": true
   },
   "outputs": [],
   "source": []
  }
 ],
 "metadata": {
  "kernelspec": {
   "display_name": "Python 3",
   "language": "python",
   "name": "python3"
  },
  "language_info": {
   "codemirror_mode": {
    "name": "ipython",
    "version": 3
   },
   "file_extension": ".py",
   "mimetype": "text/x-python",
   "name": "python",
   "nbconvert_exporter": "python",
   "pygments_lexer": "ipython3",
   "version": "3.6.1"
  }
 },
 "nbformat": 4,
 "nbformat_minor": 2
}
