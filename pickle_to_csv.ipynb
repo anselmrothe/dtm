{
 "cells": [
  {
   "cell_type": "code",
   "execution_count": 1,
   "metadata": {
    "scrolled": true
   },
   "outputs": [],
   "source": [
    "import numpy as np\n",
    "import pandas as pd\n",
    "import pickle"
   ]
  },
  {
   "cell_type": "code",
   "execution_count": 2,
   "metadata": {
    "collapsed": true
   },
   "outputs": [],
   "source": [
    "alldata_new = pickle.load(open('output/20topics_newpreprocess_dict.p', 'rb'))"
   ]
  },
  {
   "cell_type": "code",
   "execution_count": 3,
   "metadata": {
    "collapsed": true
   },
   "outputs": [],
   "source": [
    "term_topic = alldata_new['term_topic']\n",
    "doc_topic = alldata_new['doc_topic']\n",
    "doc_length = alldata_new['doc_length']\n",
    "term_frequency = alldata_new['term_frequency']\n",
    "terms = alldata_new['terms']"
   ]
  },
  {
   "cell_type": "code",
   "execution_count": 4,
   "metadata": {},
   "outputs": [
    {
     "data": {
      "text/plain": [
       "0.00011342876027732682"
      ]
     },
     "execution_count": 4,
     "metadata": {},
     "output_type": "execute_result"
    }
   ],
   "source": [
    "# structure of term_topic\n",
    "year = 0\n",
    "topic = 0\n",
    "term = 0\n",
    "prob = term_topic[year,topic,term]\n",
    "prob"
   ]
  },
  {
   "cell_type": "code",
   "execution_count": 5,
   "metadata": {
    "collapsed": true
   },
   "outputs": [],
   "source": [
    "topics = range(term_topic.shape[1])"
   ]
  },
  {
   "cell_type": "code",
   "execution_count": 6,
   "metadata": {},
   "outputs": [
    {
     "data": {
      "text/plain": [
       "['spatial',\n",
       " 'face',\n",
       " 'speaker',\n",
       " 'action',\n",
       " 'trial',\n",
       " 'relational',\n",
       " 'reasoning',\n",
       " 'probability',\n",
       " 'stimulus',\n",
       " 'concept',\n",
       " 'speech',\n",
       " 'child',\n",
       " 'category',\n",
       " 'rule',\n",
       " 'sentence',\n",
       " 'movement',\n",
       " 'causal',\n",
       " 'network',\n",
       " 'student',\n",
       " 'decision']"
      ]
     },
     "execution_count": 6,
     "metadata": {},
     "output_type": "execute_result"
    }
   ],
   "source": [
    "# topic label = most frequent word given topic\n",
    "\n",
    "def topic_label(topic, term_topic, terms):\n",
    "    term_freqs = np.sum(term_topic[:,topic,:], axis = 0)\n",
    "    max_term = np.argsort(-term_freqs)[0]\n",
    "    return(terms[max_term])\n",
    "\n",
    "topic_labels = [topic_label(topic, term_topic, terms) for topic in topics]\n",
    "\n",
    "topic_labels"
   ]
  },
  {
   "cell_type": "code",
   "execution_count": null,
   "metadata": {},
   "outputs": [],
   "source": []
  },
  {
   "cell_type": "code",
   "execution_count": 7,
   "metadata": {},
   "outputs": [],
   "source": [
    "\n",
    "### GOAL:  p(topic|year)\n",
    "\n",
    "# create year_doc, that shows which document belongs to which year\n",
    "\n",
    "# use doc_topic, where doc_topic[doc,topic] has p(topic|doc)\n",
    "\n",
    "# create year_doc_topic.csv, \n",
    "# which has the probability of a given topic in a given document in a given year\n"
   ]
  },
  {
   "cell_type": "code",
   "execution_count": 8,
   "metadata": {},
   "outputs": [
    {
     "data": {
      "text/html": [
       "<div>\n",
       "<style>\n",
       "    .dataframe thead tr:only-child th {\n",
       "        text-align: right;\n",
       "    }\n",
       "\n",
       "    .dataframe thead th {\n",
       "        text-align: left;\n",
       "    }\n",
       "\n",
       "    .dataframe tbody tr th {\n",
       "        vertical-align: top;\n",
       "    }\n",
       "</style>\n",
       "<table border=\"1\" class=\"dataframe\">\n",
       "  <thead>\n",
       "    <tr style=\"text-align: right;\">\n",
       "      <th></th>\n",
       "      <th>year</th>\n",
       "      <th>doc_id</th>\n",
       "    </tr>\n",
       "  </thead>\n",
       "  <tbody>\n",
       "    <tr>\n",
       "      <th>0</th>\n",
       "      <td>0</td>\n",
       "      <td>0</td>\n",
       "    </tr>\n",
       "    <tr>\n",
       "      <th>1</th>\n",
       "      <td>0</td>\n",
       "      <td>1</td>\n",
       "    </tr>\n",
       "    <tr>\n",
       "      <th>2</th>\n",
       "      <td>0</td>\n",
       "      <td>2</td>\n",
       "    </tr>\n",
       "    <tr>\n",
       "      <th>3</th>\n",
       "      <td>0</td>\n",
       "      <td>3</td>\n",
       "    </tr>\n",
       "    <tr>\n",
       "      <th>4</th>\n",
       "      <td>0</td>\n",
       "      <td>4</td>\n",
       "    </tr>\n",
       "  </tbody>\n",
       "</table>\n",
       "</div>"
      ],
      "text/plain": [
       "   year  doc_id\n",
       "0     0       0\n",
       "1     0       1\n",
       "2     0       2\n",
       "3     0       3\n",
       "4     0       4"
      ]
     },
     "execution_count": 8,
     "metadata": {},
     "output_type": "execute_result"
    }
   ],
   "source": [
    "## year_doc:\n",
    "## which document belongs to which year\n",
    "\n",
    "# copy pasted from alex\n",
    "year_doc_count= [167,\n",
    " 196,\n",
    " 156,\n",
    " 207,\n",
    " 249,\n",
    " 404,\n",
    " 378,\n",
    " 271,\n",
    " 201,\n",
    " 768,\n",
    " 673,\n",
    " 823,\n",
    " 431,\n",
    " 681,\n",
    " 498,\n",
    " 597,\n",
    " 464,\n",
    " 657]\n",
    "\n",
    "x = []\n",
    "year = 0\n",
    "doc_id = 0\n",
    "while year < len(year_doc_count):\n",
    "    if year_doc_count[year] == 0:\n",
    "        year += 1\n",
    "    else:\n",
    "        year_doc_count[year] -= 1\n",
    "        x.append({'year': year, 'doc_id': doc_id})\n",
    "        doc_id += 1\n",
    "year_doc = pd.DataFrame(x)\n",
    "year_doc = year_doc[['year','doc_id']]\n",
    "year_doc.head()"
   ]
  },
  {
   "cell_type": "code",
   "execution_count": 9,
   "metadata": {
    "collapsed": true
   },
   "outputs": [],
   "source": [
    "## create year_doc_topic\n",
    "\n",
    "# replicate year_doc for each topic\n",
    "x = []\n",
    "for topic in topics:\n",
    "    dd = year_doc.copy()\n",
    "    dd['topic'] = topic\n",
    "    dd['topic_label'] = topic_labels[topic]\n",
    "    x.append(dd)\n",
    "year_doc_topic = pd.concat(x)\n"
   ]
  },
  {
   "cell_type": "code",
   "execution_count": 10,
   "metadata": {},
   "outputs": [
    {
     "data": {
      "text/plain": [
       "0.0010869565217391309"
      ]
     },
     "execution_count": 10,
     "metadata": {},
     "output_type": "execute_result"
    }
   ],
   "source": [
    "# use doc_topic, where doc_topic[doc,topic] has p(topic|doc)\n",
    "doc_topic[0,0]"
   ]
  },
  {
   "cell_type": "code",
   "execution_count": 11,
   "metadata": {},
   "outputs": [],
   "source": [
    "# given year and topic, go through docs from that year and get p(topic|doc)\n",
    "def get_prob(row):\n",
    "    return(doc_topic[row.doc_id, row.topic])\n",
    "\n",
    "year_doc_topic['prob'] = year_doc_topic.apply(get_prob, axis=1)  # apply get_prob for each row (axis=1)"
   ]
  },
  {
   "cell_type": "code",
   "execution_count": 12,
   "metadata": {},
   "outputs": [],
   "source": [
    "# save csv\n",
    "year_doc_topic.to_csv(\"year_doc_topic.csv\", index=False)"
   ]
  },
  {
   "cell_type": "code",
   "execution_count": null,
   "metadata": {
    "collapsed": true
   },
   "outputs": [],
   "source": []
  }
 ],
 "metadata": {
  "kernelspec": {
   "display_name": "Python 3",
   "language": "python",
   "name": "python3"
  },
  "language_info": {
   "codemirror_mode": {
    "name": "ipython",
    "version": 3
   },
   "file_extension": ".py",
   "mimetype": "text/x-python",
   "name": "python",
   "nbconvert_exporter": "python",
   "pygments_lexer": "ipython3",
   "version": "3.6.1"
  }
 },
 "nbformat": 4,
 "nbformat_minor": 2
}
