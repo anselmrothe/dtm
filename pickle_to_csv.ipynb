{
 "cells": [
  {
   "cell_type": "code",
   "execution_count": 52,
   "metadata": {
    "collapsed": true
   },
   "outputs": [],
   "source": [
    "# This script exports some data from the pickle file into a csv\n",
    "# output/dtm_processed_output.p -> year_doc_topic.csv"
   ]
  },
  {
   "cell_type": "code",
   "execution_count": 54,
   "metadata": {
    "collapsed": true,
    "scrolled": true
   },
   "outputs": [],
   "source": [
    "import numpy as np\n",
    "import pandas as pd\n",
    "import pickle"
   ]
  },
  {
   "cell_type": "code",
   "execution_count": 55,
   "metadata": {
    "collapsed": true
   },
   "outputs": [],
   "source": [
    "alldata_new = pickle.load(open('output/dtm_processed_output.p', 'rb'))"
   ]
  },
  {
   "cell_type": "code",
   "execution_count": 56,
   "metadata": {},
   "outputs": [],
   "source": [
    "term_topic = alldata_new['term_topic']\n",
    "doc_topic = alldata_new['doc_topic']\n",
    "docnames = alldata_new['docnames']\n",
    "terms = alldata_new['terms']\n",
    "docs_per_year = alldata_new['docs_per_year']"
   ]
  },
  {
   "cell_type": "code",
   "execution_count": 57,
   "metadata": {},
   "outputs": [
    {
     "data": {
      "text/plain": [
       "0.0022569877025296011"
      ]
     },
     "execution_count": 57,
     "metadata": {},
     "output_type": "execute_result"
    }
   ],
   "source": [
    "# structure of term_topic\n",
    "year = 0\n",
    "topic = 0\n",
    "term = 0\n",
    "prob = term_topic[year,topic,term]\n",
    "prob"
   ]
  },
  {
   "cell_type": "code",
   "execution_count": 58,
   "metadata": {
    "collapsed": true
   },
   "outputs": [],
   "source": [
    "topics = range(term_topic.shape[1])"
   ]
  },
  {
   "cell_type": "code",
   "execution_count": 59,
   "metadata": {},
   "outputs": [
    {
     "data": {
      "text/plain": [
       "['sequence',\n",
       " 'face',\n",
       " 'reasoning',\n",
       " 'text',\n",
       " 'color',\n",
       " 'decision',\n",
       " 'sentence',\n",
       " 'causal',\n",
       " 'concept',\n",
       " 'child',\n",
       " 'spatial',\n",
       " 'error',\n",
       " 'category',\n",
       " 'english',\n",
       " 'student',\n",
       " 'network',\n",
       " 'speaker',\n",
       " 'probability',\n",
       " 'agent',\n",
       " 'visual']"
      ]
     },
     "execution_count": 59,
     "metadata": {},
     "output_type": "execute_result"
    }
   ],
   "source": [
    "# topic label = most frequent word given topic\n",
    "\n",
    "def topic_label(topic, term_topic, terms):\n",
    "    term_freqs = np.sum(term_topic[:,topic,:], axis = 0)\n",
    "    max_term = np.argsort(-term_freqs)[0]\n",
    "    return(terms[max_term])\n",
    "\n",
    "topic_labels = [topic_label(topic, term_topic, terms) for topic in topics]\n",
    "\n",
    "topic_labels"
   ]
  },
  {
   "cell_type": "code",
   "execution_count": null,
   "metadata": {
    "collapsed": true
   },
   "outputs": [],
   "source": []
  },
  {
   "cell_type": "code",
   "execution_count": 60,
   "metadata": {
    "collapsed": true
   },
   "outputs": [],
   "source": [
    "\n",
    "### GOAL:  p(topic|year)\n",
    "\n",
    "# create year_doc, that shows which document belongs to which year\n",
    "\n",
    "# use doc_topic, where doc_topic[doc,topic] has p(topic|doc)\n",
    "\n",
    "# create year_doc_topic.csv, \n",
    "# which has the probability of a given topic in a given document in a given year\n"
   ]
  },
  {
   "cell_type": "code",
   "execution_count": 61,
   "metadata": {},
   "outputs": [
    {
     "data": {
      "text/html": [
       "<div>\n",
       "<style>\n",
       "    .dataframe thead tr:only-child th {\n",
       "        text-align: right;\n",
       "    }\n",
       "\n",
       "    .dataframe thead th {\n",
       "        text-align: left;\n",
       "    }\n",
       "\n",
       "    .dataframe tbody tr th {\n",
       "        vertical-align: top;\n",
       "    }\n",
       "</style>\n",
       "<table border=\"1\" class=\"dataframe\">\n",
       "  <thead>\n",
       "    <tr style=\"text-align: right;\">\n",
       "      <th></th>\n",
       "      <th>year</th>\n",
       "      <th>doc_id</th>\n",
       "    </tr>\n",
       "  </thead>\n",
       "  <tbody>\n",
       "    <tr>\n",
       "      <th>0</th>\n",
       "      <td>0</td>\n",
       "      <td>0</td>\n",
       "    </tr>\n",
       "    <tr>\n",
       "      <th>1</th>\n",
       "      <td>0</td>\n",
       "      <td>1</td>\n",
       "    </tr>\n",
       "    <tr>\n",
       "      <th>2</th>\n",
       "      <td>0</td>\n",
       "      <td>2</td>\n",
       "    </tr>\n",
       "    <tr>\n",
       "      <th>3</th>\n",
       "      <td>0</td>\n",
       "      <td>3</td>\n",
       "    </tr>\n",
       "    <tr>\n",
       "      <th>4</th>\n",
       "      <td>0</td>\n",
       "      <td>4</td>\n",
       "    </tr>\n",
       "  </tbody>\n",
       "</table>\n",
       "</div>"
      ],
      "text/plain": [
       "   year  doc_id\n",
       "0     0       0\n",
       "1     0       1\n",
       "2     0       2\n",
       "3     0       3\n",
       "4     0       4"
      ]
     },
     "execution_count": 61,
     "metadata": {},
     "output_type": "execute_result"
    }
   ],
   "source": [
    "## year_doc:\n",
    "## which document belongs to which year\n",
    "\n",
    "year_doc_count=docs_per_year\n",
    "\n",
    "x = []\n",
    "year = 0\n",
    "doc_id = 0\n",
    "while year < len(year_doc_count):\n",
    "    if year_doc_count[year] == 0:\n",
    "        year += 1\n",
    "    else:\n",
    "        year_doc_count[year] -= 1\n",
    "        x.append({'year': year, 'doc_id': doc_id})\n",
    "        doc_id += 1\n",
    "year_doc = pd.DataFrame(x)\n",
    "year_doc = year_doc[['year','doc_id']]\n",
    "year_doc.head()"
   ]
  },
  {
   "cell_type": "code",
   "execution_count": 62,
   "metadata": {
    "collapsed": true
   },
   "outputs": [],
   "source": [
    "## create year_doc_topic\n",
    "\n",
    "# replicate year_doc for each topic\n",
    "x = []\n",
    "for topic in topics:\n",
    "    dd = year_doc.copy()\n",
    "    dd['topic'] = topic\n",
    "    dd['topic_label'] = topic_labels[topic]\n",
    "    x.append(dd)\n",
    "year_doc_topic = pd.concat(x)\n"
   ]
  },
  {
   "cell_type": "code",
   "execution_count": 63,
   "metadata": {},
   "outputs": [
    {
     "data": {
      "text/plain": [
       "3.0978935057764542e-05"
      ]
     },
     "execution_count": 63,
     "metadata": {},
     "output_type": "execute_result"
    }
   ],
   "source": [
    "# use doc_topic, where doc_topic[doc,topic] has p(topic|doc)\n",
    "doc_topic[0,0]"
   ]
  },
  {
   "cell_type": "code",
   "execution_count": 64,
   "metadata": {},
   "outputs": [],
   "source": [
    "# given year and topic, go through docs from that year and get p(topic|doc)\n",
    "def get_prob(row):\n",
    "    return(doc_topic[row.doc_id, row.topic])\n",
    "\n",
    "year_doc_topic['prob'] = year_doc_topic.apply(get_prob, axis=1)  # apply get_prob for each row (axis=1)"
   ]
  },
  {
   "cell_type": "code",
   "execution_count": 65,
   "metadata": {
    "collapsed": true
   },
   "outputs": [],
   "source": [
    "# save csv\n",
    "year_doc_topic.to_csv(\"year_doc_topic.csv\", index=False)"
   ]
  },
  {
   "cell_type": "code",
   "execution_count": null,
   "metadata": {
    "collapsed": true
   },
   "outputs": [],
   "source": []
  }
 ],
 "metadata": {
  "kernelspec": {
   "display_name": "Python 3",
   "language": "python",
   "name": "python3"
  },
  "language_info": {
   "codemirror_mode": {
    "name": "ipython",
    "version": 3
   },
   "file_extension": ".py",
   "mimetype": "text/x-python",
   "name": "python",
   "nbconvert_exporter": "python",
   "pygments_lexer": "ipython3",
   "version": "3.6.1"
  }
 },
 "nbformat": 4,
 "nbformat_minor": 2
}
