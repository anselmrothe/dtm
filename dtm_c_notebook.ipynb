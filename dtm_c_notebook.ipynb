{
 "cells": [
  {
   "cell_type": "code",
   "execution_count": 22,
   "metadata": {
    "collapsed": true
   },
   "outputs": [],
   "source": [
    "import os\n",
    "from nltk.tokenize import RegexpTokenizer\n",
    "from nltk.stem.wordnet import WordNetLemmatizer\n",
    "from gensim.corpora import Dictionary\n"
   ]
  },
  {
   "cell_type": "code",
   "execution_count": 23,
   "metadata": {
    "collapsed": true
   },
   "outputs": [],
   "source": [
    "def preprocess(docs,no_below=20,no_above=0.7):\n",
    "    # input is a an array of docs; each is one string\n",
    "    tokenizer = RegexpTokenizer(r'\\w+')\n",
    "    for idx in range(len(docs)):\n",
    "        docs[idx] = docs[idx].lower()  # Convert to lowercase.\n",
    "        docs[idx] = tokenizer.tokenize(docs[idx])  # Split into words.\n",
    "\n",
    "    # Remove numbers, but not words that contain numbers.\n",
    "    docs = [[token for token in doc if not token.isnumeric()] for doc in docs]\n",
    "    # Remove words that are only one character.\n",
    "    docs = [[token for token in doc if len(token) > 1] for doc in docs]   \n",
    "\n",
    "    # Lemmatize all words in documents.\n",
    "    lemmatizer = WordNetLemmatizer()\n",
    "    docs = [[lemmatizer.lemmatize(token) for token in doc] for doc in docs]\n",
    "    \n",
    "    # Delete words based on their frequency in the whole corps\n",
    "    # Create a dictionary representation of the documents.\n",
    "    dictionary = Dictionary(docs)\n",
    "    #set_trace()\n",
    "    # Filter out words that occur less than 20 documents, or more than 70% of the documents.\n",
    "    dictionary.filter_extremes(no_below, no_above)\n",
    "    \n",
    "    # According to the filtered dictionary, reconstruct the corpus\n",
    "    corpus = [dictionary.doc2bow(doc) for doc in docs]\n",
    "    \n",
    "    return corpus, dictionary\n",
    "    # TODO: linebreaks should be recovered into single word? search for solution first\n"
   ]
  },
  {
   "cell_type": "code",
   "execution_count": 51,
   "metadata": {
    "collapsed": true
   },
   "outputs": [],
   "source": [
    "years = list(range(22, 40))\n",
    "dirs = ['text_data/volume_{}/'.format(y) for y in years]"
   ]
  },
  {
   "cell_type": "code",
   "execution_count": 52,
   "metadata": {},
   "outputs": [],
   "source": [
    "ndocs = []\n",
    "docs = []\n",
    "import codecs\n",
    "\n",
    "\n",
    "for d in dirs:\n",
    "    fnames = os.listdir(d)\n",
    "    # start with 1/10 of the data\n",
    "    fnames = [t[1] for t in enumerate(fnames) if t[0] % 10 == 0]\n",
    "    for fn in fnames:\n",
    "        with open(d + fn, 'r', encoding='utf-8') as f:\n",
    "            docs.append(f.read())\n",
    "    ndocs.append(len(fnames))"
   ]
  },
  {
   "cell_type": "code",
   "execution_count": 53,
   "metadata": {},
   "outputs": [],
   "source": [
    "corpus, dictionary = preprocess(docs,no_below=3,no_above=0.4)"
   ]
  },
  {
   "cell_type": "code",
   "execution_count": 54,
   "metadata": {
    "collapsed": true
   },
   "outputs": [],
   "source": [
    "\n",
    "import logging\n",
    "from gensim.models import ldaseqmodel\n",
    "from gensim.models.wrappers.dtmmodel import DtmModel\n",
    "\n",
    "from gensim.corpora import Dictionary, bleicorpus, textcorpus\n",
    "import numpy as np\n",
    "from gensim.matutils import hellinger\n",
    "import time\n"
   ]
  },
  {
   "cell_type": "code",
   "execution_count": 58,
   "metadata": {},
   "outputs": [],
   "source": [
    "t0= time.time()\n",
    "logger = logging.getLogger()\n",
    "logger.setLevel(logging.DEBUG)\n",
    "\n",
    "dtm_path = \"/Users/alex/dtm/bin/dtm-darwin64\"\n",
    "model = DtmModel(dtm_path, corpus=corpus, time_slices=ndocs, num_topics=5, id2word=dictionary, initialize_lda=True)\n",
    "\n",
    "dt = time.time() - t0\n"
   ]
  },
  {
   "cell_type": "code",
   "execution_count": 61,
   "metadata": {},
   "outputs": [],
   "source": [
    "yeardata = []\n",
    "for t in range(len(ndocs)):\n",
    "    yeardata.append(model.dtm_vis(corpus, time=t))"
   ]
  },
  {
   "cell_type": "code",
   "execution_count": 72,
   "metadata": {},
   "outputs": [],
   "source": [
    "import pickle\n",
    "pickle.dump(yeardata, open( \"output/onetenthfivetopics.p\", \"wb\" ))"
   ]
  },
  {
   "cell_type": "code",
   "execution_count": null,
   "metadata": {
    "collapsed": true
   },
   "outputs": [],
   "source": []
  }
 ],
 "metadata": {
  "kernelspec": {
   "display_name": "Python 3",
   "language": "python",
   "name": "python3"
  },
  "language_info": {
   "codemirror_mode": {
    "name": "ipython",
    "version": 3
   },
   "file_extension": ".py",
   "mimetype": "text/x-python",
   "name": "python",
   "nbconvert_exporter": "python",
   "pygments_lexer": "ipython3",
   "version": "3.6.1"
  }
 },
 "nbformat": 4,
 "nbformat_minor": 2
}
