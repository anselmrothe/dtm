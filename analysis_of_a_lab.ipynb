{
 "cells": [
  {
   "cell_type": "code",
   "execution_count": 1,
   "metadata": {
    "collapsed": true
   },
   "outputs": [],
   "source": [
    "import glob\n",
    "import matplotlib.pyplot as plt\n",
    "import pandas as pd\n",
    "import numpy as np\n",
    "import pickle\n",
    "from IPython.core.debugger import set_trace\n",
    "import difflib"
   ]
  },
  {
   "cell_type": "code",
   "execution_count": 2,
   "metadata": {
    "collapsed": false
   },
   "outputs": [],
   "source": [
    "# load data\n",
    "\n",
    "alldata_new = pickle.load(open('output/dtm_processed_output.p', 'rb'))\n",
    "alldata_new.keys()\n",
    "doc_year=alldata_new['docs_per_year']\n",
    "doc_ids =[0]+list(np.cumsum(doc_year))\n",
    "\n",
    "term_topic = alldata_new['term_topic']# term_topic is n_years*n_topics*n_terms\n",
    "terms = alldata_new['terms']\n",
    "term_frequency = alldata_new['term_frequency'][1:] # weirdly the first entry is empty\n",
    "doc_topicyrs = alldata_new['doc_topic']\n",
    "\n",
    "doc_topic = []\n",
    "doc_length=[]\n",
    "for year in range(len(term_topic)):    \n",
    "    doc_topic.append(alldata_new['doc_topic'][doc_ids[year]:doc_ids[year+1]])# doc_topic is nyear*n_docs given year*n_topics\n",
    "    doc_length.append(alldata_new['doc_length'][doc_ids[year]:doc_ids[year+1]]) #doc_length is nyear*n_docs given year\"\"\"    \n",
    "# rename topics by the hand-picked names\n",
    "topic_labels = pickle.load(open('topicnames.p','rb'))\n",
    "    "
   ]
  },
  {
   "cell_type": "code",
   "execution_count": 3,
   "metadata": {
    "collapsed": true
   },
   "outputs": [],
   "source": [
    "def stringdiff(a,b):\n",
    "    return sum ( a[i] != b[i] for i in range(len(a)) )"
   ]
  },
  {
   "cell_type": "code",
   "execution_count": 49,
   "metadata": {
    "collapsed": true
   },
   "outputs": [],
   "source": [
    "def finddoc(alldocs,title):\n",
    "    for doc in alldocs:\n",
    "        \"\"\"print(doc)         \n",
    "        matchratio = difflib.SequenceMatcher(None,title,doc).ratio()\n",
    "        print(matchratio)\n",
    "        if matchratio >.9:\n",
    "            print(doc+'\\n'+title)\n",
    "            idx = alldocs.index(doc)\n",
    "            return([year,idx])\"\"\"\n",
    "        if len(doc)==len(title):\n",
    "            if stringdiff(doc,title)<3:\n",
    "                #print(doc+'\\n'+title)\n",
    "                idx = alldocs.index(doc)\n",
    "                return([year,idx])\n",
    "    return([])\n",
    "                \n"
   ]
  },
  {
   "cell_type": "code",
   "execution_count": 56,
   "metadata": {
    "collapsed": false
   },
   "outputs": [
    {
     "name": "stdout",
     "output_type": "stream",
     "text": [
      "\n",
      "cannot find: computationally reproducible experiments\n",
      "\n",
      "cannot find: online experiments using jspsych, psiturk, and amazon mechanical turk\n"
     ]
    }
   ],
   "source": [
    "label='alex'\n",
    "titles=['Computationally reproducible experiments','The Attentional Learning Trap and How to Avoid it','Online Experiments using jsPsych, psiTurk, and Amazon Mechanical Turk']\n",
    "doclist=getlist(titles)        \n",
    "(mtops,meantpfreq)=maintopics(doclist,topic_labels)\n",
    "with open('result/lab_topic/'+label+'.txt','w') as f:\n",
    "    for k in range(len(mtops)):\n",
    "        f.write(mtops[k]+', freq={}'.format(meantpfreq[k])+'\\n')"
   ]
  },
  {
   "cell_type": "code",
   "execution_count": 54,
   "metadata": {
    "collapsed": false
   },
   "outputs": [
    {
     "name": "stdout",
     "output_type": "stream",
     "text": [
      "\n",
      "cannot find: information selection in categorization with stimulus uncertainty\n",
      "\n",
      "cannot find: the distorting effects of deciding to stop sampling\n",
      "\n",
      "cannot find: active control of study leads to improved recognition memory in children\n",
      "\n",
      "cannot find: workshop: online experiments using jspsych, psiturk, and amazon mechanical turk\n"
     ]
    }
   ],
   "source": [
    "# find the paper index for given titles\n",
    "label='gureckis'\n",
    "titles = ['Information selection in categorization with stimulus uncertainty','Beliefs about sparsity affect casual experimentation',\n",
    "         'Asking and evaluating natural language questions','The distorting effects of deciding to stop sampling',\n",
    "         'Desirable difficulties in the development of active inquiry skills',\n",
    "         'Active control of study leads to improved recognition memory in children',\n",
    "          'Deep Neural Networks Predict Category Typicality Ratings for Images',\n",
    "         'the Attentional Learning Trap and How to Avoid it',\n",
    "         'Are Biases When Making Causal Interventions Related to Biases in Belief Updating',\n",
    "         'Decisions to intervene on causal systems are adaptively selected',\n",
    "         'The value of approaching bad things',\n",
    "         'A preference for the unpredictable over the informative during self-directed learning',\n",
    "         'Workshop: Online Experiments using jsPsych, psiTurk, and Amazon Mechanical Turk']            \n",
    "doclist=getlist(titles)        \n",
    "(mtops,meantpfreq)=maintopics(doclist,topic_labels)\n",
    "with open('result/lab_topic/'+label+'.txt','w') as f:\n",
    "    for k in range(len(mtops)):\n",
    "        f.write(mtops[k]+', freq={}'.format(meantpfreq[k])+'\\n')"
   ]
  },
  {
   "cell_type": "code",
   "execution_count": 52,
   "metadata": {
    "collapsed": false
   },
   "outputs": [],
   "source": [
    "def getlist(titles):\n",
    "    titles = [k.lower() for k in titles]\n",
    "    doclist=[]\n",
    "\n",
    "    for t in titles:\n",
    "        didfind=False\n",
    "        for year in range(18):\n",
    "            docdir = 'text_data/volume_{}/'.format(22+year)\n",
    "            alldocs = glob.glob(docdir+'*.txt')\n",
    "            alldocs = [k.lower()[20:-4] for k in alldocs]\n",
    "            find=finddoc(alldocs,t)\n",
    "            if find:\n",
    "                doclist.append(find)\n",
    "                didfind=True\n",
    "                break\n",
    "\n",
    "        if didfind==False:\n",
    "            print('\\ncannot find: '+t)\n",
    "    return(doclist)\n",
    "# given a list of paper, what are their main topics? for analyzing like a lab or an author\n",
    "def maintopics(doclist,*topic_labels):\n",
    "    ntopics=20\n",
    "    doc_topfreq=np.empty((len(doclist),ntopics))\n",
    "    for k in range(len(doclist)):\n",
    "        if len(doclist[0])==1:\n",
    "            doc_topfreq[k]=alldata_new['doc_topic'][doclist[k]]\n",
    "        elif len(doclist[0])==2: # year then index\n",
    "            doc_topfreq[k]=doc_topic[doclist[k][0]][doclist[k][1]]\n",
    "    doc_topfreq = np.mean(doc_topfreq,axis=0)\n",
    "    maintopics = np.argsort(-doc_topfreq) \n",
    "    doc_topfreq=doc_topfreq[maintopics]\n",
    "    if topic_labels:\n",
    "        maintopics=[topic_labels[0][idx-1] for idx in maintopics]\n",
    "    return (maintopics,doc_topfreq)\n"
   ]
  },
  {
   "cell_type": "code",
   "execution_count": null,
   "metadata": {
    "collapsed": true
   },
   "outputs": [],
   "source": []
  },
  {
   "cell_type": "code",
   "execution_count": 8,
   "metadata": {
    "collapsed": false
   },
   "outputs": [
    {
     "data": {
      "text/plain": [
       "array([ nan,  nan,  nan,  nan,  nan,  nan,  nan,  nan,  nan,  nan,  nan,\n",
       "        nan,  nan,  nan,  nan,  nan,  nan,  nan,  nan,  nan])"
      ]
     },
     "execution_count": 8,
     "metadata": {},
     "output_type": "execute_result"
    }
   ],
   "source": [
    "meantpfreq"
   ]
  }
 ],
 "metadata": {
  "anaconda-cloud": {},
  "kernelspec": {
   "display_name": "Python [Root]",
   "language": "python",
   "name": "Python [Root]"
  },
  "language_info": {
   "codemirror_mode": {
    "name": "ipython",
    "version": 3
   },
   "file_extension": ".py",
   "mimetype": "text/x-python",
   "name": "python",
   "nbconvert_exporter": "python",
   "pygments_lexer": "ipython3",
   "version": "3.5.2"
  }
 },
 "nbformat": 4,
 "nbformat_minor": 0
}
