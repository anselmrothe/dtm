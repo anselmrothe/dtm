{
 "cells": [
  {
   "cell_type": "code",
   "execution_count": 49,
   "metadata": {
    "collapsed": true
   },
   "outputs": [],
   "source": [
    "import glob\n",
    "import matplotlib.pyplot as plt\n",
    "import pandas as pd\n",
    "import numpy as np\n",
    "import pickle\n",
    "from IPython.core.debugger import set_trace\n",
    "import difflib\n",
    "import csv\n",
    "from scipy.stats import entropy"
   ]
  },
  {
   "cell_type": "code",
   "execution_count": 17,
   "metadata": {
    "collapsed": false
   },
   "outputs": [
    {
     "data": {
      "text/plain": [
       "dict_keys(['doc_length', 'doc_topic', 'docnames', 'term_topic', 'terms', 'term_frequency', 'docs_per_year'])"
      ]
     },
     "execution_count": 17,
     "metadata": {},
     "output_type": "execute_result"
    }
   ],
   "source": [
    "alldata_new.keys()"
   ]
  },
  {
   "cell_type": "code",
   "execution_count": 19,
   "metadata": {
    "collapsed": false
   },
   "outputs": [],
   "source": [
    "# load data\n",
    "\n",
    "alldata_new = pickle.load(open('output/dtm_processed_output.p', 'rb'))\n",
    "doctitles=alldata_new['docnames']\n",
    "doc_year=alldata_new['docs_per_year']\n",
    "doc_ids =[0]+list(np.cumsum(doc_year))\n",
    "\n",
    "term_topic = alldata_new['term_topic']# term_topic is n_years*n_topics*n_terms\n",
    "terms = alldata_new['terms']\n",
    "term_frequency = alldata_new['term_frequency'][1:] # weirdly the first entry is empty\n",
    "doc_topicyrs = alldata_new['doc_topic']\n",
    "\n",
    "doc_topic = []\n",
    "doc_length=[]\n",
    "for year in range(len(term_topic)):    \n",
    "    doc_topic.append(alldata_new['doc_topic'][doc_ids[year]:doc_ids[year+1]])# doc_topic is nyear*n_docs given year*n_topics\n",
    "    doc_length.append(alldata_new['doc_length'][doc_ids[year]:doc_ids[year+1]]) #doc_length is nyear*n_docs given year\"\"\"    \n",
    "# rename topics by the hand-picked names\n",
    "topic_labels = pickle.load(open('topicnames.p','rb'))\n",
    "    "
   ]
  },
  {
   "cell_type": "code",
   "execution_count": 3,
   "metadata": {
    "collapsed": true
   },
   "outputs": [],
   "source": [
    "def stringdiff(a,b):\n",
    "    return sum ( a[i] != b[i] for i in range(len(a)) )"
   ]
  },
  {
   "cell_type": "code",
   "execution_count": 46,
   "metadata": {
    "collapsed": false
   },
   "outputs": [],
   "source": [
    "def getlist(titles):\n",
    "    doclist=[]\n",
    "    titlelist=[]\n",
    "    titles = [k.lower() for k in titles]\n",
    "    for doc in doctitles:\n",
    "        for title in titles:\n",
    "            matchratio = difflib.SequenceMatcher(None,title,doc).ratio() \n",
    "            if matchratio >.7:\n",
    "                print(doc+'\\n'+title)\n",
    "                doclist.append(doctitles.index(doc))\n",
    "                titlelist.append(title)\n",
    "        if set(titlelist)==set(titles):\n",
    "            break\n",
    "                \n",
    "    for t in titles:\n",
    "        if t not in titlelist:\n",
    "            print('\\ncannot find: '+t)\n",
    "    return([doclist,titlelist])\n",
    "\n",
    "# given a list of paper, what are their main topics? for analyzing like a lab or an author\n",
    "def maintopics(doclist,*topic_labels):\n",
    "    ntopics=20\n",
    "    doc_topfreq=np.empty((len(doclist),ntopics))\n",
    "    for k in range(len(doclist)):\n",
    "        if isinstance(doclist[0],int):\n",
    "            doc_topfreq[k]=alldata_new['doc_topic'][doclist[k]]\n",
    "        elif len(doclist[0])==2: # year then index\n",
    "            try:\n",
    "                doc_topfreq[k]=doc_topic[doclist[k][0]][doclist[k][1]]\n",
    "            except:\n",
    "                year=doclist[k][0]\n",
    "                \n",
    "                print('year%d'%doclist[k][0])\n",
    "                print(len(doc_topic[year]))\n",
    "                docdir = 'text_data/volume_{}/'.format(22+year)\n",
    "                alldocs = glob.glob(docdir+'*.txt')\n",
    "                print(len(alldocs))\n",
    "                set_trace()\n",
    "    doc_topfreq = np.mean(doc_topfreq,axis=0)\n",
    "    doc_topfreq = doc_topfreq/sum(doc_topfreq)\n",
    "    \n",
    "    maintopid = np.argsort(-doc_topfreq) \n",
    "    doc_topfreq=doc_topfreq[maintopid]\n",
    "    if topic_labels:\n",
    "        maintopics=[topic_labels[0][idx] for idx in maintopid]\n",
    "    return (maintopics,doc_topfreq)\n",
    "def lab_summary(titles,label):\n",
    "    [doclist,titlelist]=getlist(titles)        \n",
    "    (mtops,meantpfreq)=maintopics(doclist,topic_labels)\n",
    "    with open('result/lab_topic/'+label+'.txt','w') as f:\n",
    "        for k in range(len(mtops)):\n",
    "            f.write(mtops[k]+', freq={}'.format(meantpfreq[k])+'\\n')\n",
    "        f.write('\\n papers included:\\n')\n",
    "        for title in titlelist:\n",
    "            f.write(title)\n",
    "\n",
    "    with open('result/lab_topic/'+label+'.csv','w') as f:\n",
    "        csvwriter = csv.writer(f)\n",
    "        for k in range(len(mtops)):\n",
    "            csvwriter.writerow([mtops[k],meantpfreq[k]])\n",
    "    return(doclist,titlelist,mtops,meantpfreq)"
   ]
  },
  {
   "cell_type": "code",
   "execution_count": 47,
   "metadata": {
    "collapsed": false
   },
   "outputs": [
    {
     "name": "stdout",
     "output_type": "stream",
     "text": [
      "The Attentional Learning Trap and How to Avoid It\n",
      "the attentional learning trap and how to avoid it\n",
      "\n",
      "cannot find: computationally reproducible experiments\n",
      "\n",
      "cannot find: online experiments using jspsych, psiturk, and amazon mechanical turk\n"
     ]
    },
    {
     "data": {
      "text/plain": [
       "([5329],\n",
       " ['the attentional learning trap and how to avoid it'],\n",
       " ['Decision making',\n",
       "  'Categorization',\n",
       "  'Consciousness and identity',\n",
       "  'Visual attention',\n",
       "  'Causal reasoning',\n",
       "  'Reasoning',\n",
       "  'Artificial network and Neuroscience',\n",
       "  'Face and emotion perception',\n",
       "  'Educational psychology',\n",
       "  'Probabilistic modeling',\n",
       "  'Sequential learning',\n",
       "  'Mathematical Psychology',\n",
       "  'Text processing and creativity',\n",
       "  'Memory',\n",
       "  'Spatial cognition and embodied cognition',\n",
       "  'Developmental psychology',\n",
       "  'non-verbal communication',\n",
       "  'Language: syntax',\n",
       "  'Knowledge structure',\n",
       "  'Language: semantics'],\n",
       " array([  5.55000388e-01,   2.32257476e-01,   4.59295041e-02,\n",
       "          4.25928275e-02,   4.25890392e-02,   3.62707537e-02,\n",
       "          1.92191536e-02,   1.14202215e-02,   1.02137483e-02,\n",
       "          4.20926924e-03,   2.97619087e-05,   2.97619054e-05,\n",
       "          2.97619054e-05,   2.97619054e-05,   2.97619054e-05,\n",
       "          2.97619053e-05,   2.97619053e-05,   2.97619052e-05,\n",
       "          2.97619052e-05,   2.97619052e-05]))"
      ]
     },
     "execution_count": 47,
     "metadata": {},
     "output_type": "execute_result"
    }
   ],
   "source": [
    "label='alex'\n",
    "titles=['Computationally reproducible experiments','The Attentional Learning Trap and How to Avoid it','Online Experiments using jsPsych, psiTurk, and Amazon Mechanical Turk']\n",
    "(doclist,titlelist,mtops,meantpfreq)=lab_summary(titles,label)"
   ]
  },
  {
   "cell_type": "code",
   "execution_count": 48,
   "metadata": {
    "collapsed": false
   },
   "outputs": [
    {
     "name": "stdout",
     "output_type": "stream",
     "text": [
      "Asking and evaluating natural language questions\n",
      "asking and evaluating natural language questions\n"
     ]
    }
   ],
   "source": [
    "label='anselm'\n",
    "titles=['Asking and evaluating natural language questions']\n",
    "(doclist,titlelist,mtops,meantpfreq)=lab_summary(titles,label)"
   ]
  },
  {
   "cell_type": "code",
   "execution_count": 31,
   "metadata": {
    "collapsed": false,
    "scrolled": true
   },
   "outputs": [
    {
     "name": "stdout",
     "output_type": "stream",
     "text": [
      "Modeling Category Intuitiveness\n",
      "modeling category intuitiveness\n",
      "The Emergence of Collective Structures Through Individual Interactions\n",
      "the emergence of collective structure through individual interactions\n",
      "Active Learning Strategies in a Spatial Concept Learning Game\n",
      "active learning strategies in a spatial concept learning game\n",
      "When Things Get Worse before they Get Better Regulatory Fit and Average-Reward Learning in a Dynamic Decision-Making Environment\n",
      "when things get worse before they get better: regulatory fit and average-reward learning in a dynamic decision-making environment\n",
      "Is categorical perception really verbally mediated perception\n",
      "is categorial perception really verbally-mediated perception\n",
      "The Impact of Perceptual Aliasing on Exploration and Learning in a Dynamic Decision Making Task\n",
      "the impact of perceptual aliasing on exploration and learning in a dynamic decision making task\n",
      "Category Learning Through Active Sampling\n",
      "category learning through active sampling\n",
      "Grow your own representations Computational constructivism\n",
      "grow your own representations: computational constructivism\n",
      "Dont Stop Til You Get Enough Adaptive Information Sampling in a Visuomotor Estimation Task\n",
      "don't stop 'til you get enough: adaptive information sampling in a visuomotor estimation task\n",
      "Does Category Labeling Lead to Forgetting\n",
      "does category labeling lead to forgetting\n",
      "Does the utility of information influence sampling behavior\n",
      "does the utility of information influence sampling behavior\n",
      "Sparse category labels obstruct generalization of category membership\n",
      "sparse category labels obstruct generalization of category membership\n",
      "One-shot lotteries in the park\n",
      "one-shot lotteries in the park\n",
      "One piece at a time Learning complex rules through self-directed sampling\n",
      "one piece at a time: learning complex rules through self-directed sampling\n",
      "Informavores Active information foraging and human cognition\n",
      "informavores: active information foraging and human cognition\n",
      "Decisions to intervene on causal systems are adaptively selected\n",
      "decisions to intervene on causal systems are adaptively selected\n",
      "A preference for the unpredictable over the informative during self-directed learning\n",
      "a preference for the unpredictable over the informative during self-directed learning\n",
      "The value of approaching bad things\n",
      "the value of approaching bad things\n",
      "The Attentional Learning Trap and How to Avoid It\n",
      "the attentional learning trap and how to avoid it\n",
      "Deep Neural Networks Predict Category Typicality Ratings for Images\n",
      "deep neural networks predict category typicality ratings for images\n",
      "Are Biases When Making Causal Interventions Related to Biases in Belief Updating?\n",
      "are biases when making causal interventions related to biases in belief updating\n",
      "Are Biases When Making Causal Interventions Related to Biases in Belief Updating\n",
      "are biases when making causal interventions related to biases in belief updating\n",
      "Asking and evaluating natural language questions\n",
      "asking and evaluating natural language questions\n",
      "Active control of study leads to improved episodic memory in children\n",
      "active control of study leads to improved recognition memory in children\n",
      "Desirable difficulties in the development of active inquiry skills\n",
      "desirable difficulties in the development of active inquiry skills\n",
      "The distorting effect of deciding to stop sampling\n",
      "the distorting effects of deciding to stop sampling\n",
      "Beliefs about sparsity affect causal experimentation\n",
      "beliefs about sparsity affect casual experimentation\n",
      "\n",
      "cannot find: information selection in categorization with stimulus uncertainty\n",
      "\n",
      "cannot find: workshop: online experiments using jspsych, psiturk, and amazon mechanical turk\n",
      "\n",
      "cannot find: the effect of the internal structure of categories on perception\n"
     ]
    }
   ],
   "source": [
    "# find the paper index for given titles\n",
    "label='gureckis'\n",
    "titles = ['Information selection in categorization with stimulus uncertainty','Beliefs about sparsity affect casual experimentation',\n",
    "         'Asking and evaluating natural language questions','The distorting effects of deciding to stop sampling',\n",
    "         'Desirable difficulties in the development of active inquiry skills',\n",
    "         'Active control of study leads to improved recognition memory in children',\n",
    "          'Deep Neural Networks Predict Category Typicality Ratings for Images',\n",
    "         'the Attentional Learning Trap and How to Avoid it',\n",
    "         'Are Biases When Making Causal Interventions Related to Biases in Belief Updating',\n",
    "         'Decisions to intervene on causal systems are adaptively selected',\n",
    "         'The value of approaching bad things',\n",
    "         'A preference for the unpredictable over the informative during self-directed learning',\n",
    "         'Workshop: Online Experiments using jsPsych, psiTurk, and Amazon Mechanical Turk',\n",
    "         'Informavores: Active information foraging and human cognition',\n",
    "         'Does the utility of information influence sampling behavior',\n",
    "         'One piece at a time: Learning complex rules through self-directed sampling',\n",
    "         'Sparse category labels obstruct generalization of category membership',\n",
    "         'One-shot lotteries in the park',\n",
    "         'Does category labeling lead to forgetting',\n",
    "         \"Don't Stop 'Til You Get Enough: Adaptive Information Sampling in a Visuomotor Estimation Task\",\n",
    "         'Grow your own representations: Computational constructivism',\n",
    "         'Category Learning Through Active Sampling',\n",
    "         'The Impact of Perceptual Aliasing on Exploration and Learning in a Dynamic Decision Making Task',\n",
    "         'Is categorial perception really verbally-mediated perception',\n",
    "         'Active Learning Strategies in a Spatial Concept Learning Game',\n",
    "         'When Things Get Worse before they Get Better: Regulatory Fit and Average-Reward Learning in a Dynamic Decision-Making Environment',\n",
    "         'The emergence of Collective Structure through Individual Interactions',\n",
    "         'Modeling category intuitiveness',\n",
    "         'The effect of the internal structure of categories on perception']            \n",
    "#lab_summary(titles,label)\n",
    "[doclist,titlelist]=getlist(titles)        "
   ]
  },
  {
   "cell_type": "code",
   "execution_count": 40,
   "metadata": {
    "collapsed": false
   },
   "outputs": [],
   "source": [
    "(mtops,meantpfreq)=maintopics(doclist,topic_labels)\n",
    "with open('result/lab_topic/'+label+'.txt','w') as f:\n",
    "    for k in range(len(mtops)):\n",
    "        f.write(mtops[k]+', freq={}'.format(meantpfreq[k])+'\\n')\n",
    "    f.write('\\n papers included:\\n')\n",
    "    for title in titlelist:\n",
    "        f.write(title)\n",
    "\n",
    "with open('result/lab_topic/'+label+'.csv','w') as f:\n",
    "    csvwriter = csv.writer(f)\n",
    "    for k in range(len(mtops)):\n",
    "        csvwriter.writerow([mtops[k],meantpfreq[k]])"
   ]
  },
  {
   "cell_type": "code",
   "execution_count": 41,
   "metadata": {
    "collapsed": false
   },
   "outputs": [
    {
     "name": "stdout",
     "output_type": "stream",
     "text": [
      "Language as a Cognitive Technology English-Speakers Match Like Pirah When You Dont Let Them Count\n",
      "language as a cognitive technology: english-speakers match like pirahã when you don't let them count\n",
      "Principles of Generalization for Learning Sequential Structure in Language\n",
      "principles of generalization for learning sequential structure in language\n",
      "Exploring Word Learning in a High-Density Longitudinal Corpus\n",
      "exploring word learning in a high-density longitudinal corpus\n",
      "Continuity of Discourse Provides Information for Word Learning\n",
      "continuity of discourse provides information for word learning\n",
      "Cross-situational Word Learning Respects Mutual Exclusivity\n",
      "cross-situational word learning respects mutual exclusivity\n",
      "Informative Communication in Word Production and Word Learning\n",
      "informative communication in word production and word learning\n",
      "Contributions of Prosodic and Distributional Features of Caregivers Speech in Early Word Learning\n",
      "contributions of prosodic and distributional features of caregivers' speech in early word \n",
      "Beyond Transitional Probabilities Human Learners Impose a Parsimony Bias in Statistical Word Segmentation\n",
      "beyond transitional probabilities: human learners impose a parsimony bias in statistical word segmentation\n",
      "Ad-hoc scalar implicature in adults and children\n",
      "ad-hoc scalar implicature in adults and children\n",
      "The learnability of constructed languages reflects typological patterns\n",
      "the learnability of constructed languages reflects typological patterns\n",
      "Markers of Discourse Structure in Child-Directed Speech\n",
      "markers of discourse structure in child-directed speech\n",
      "Relating Activity Contexts to Early Word Learning in Dense Longitudinal Data\n",
      "relating activity contexts to early word learning in dense longitudinal data\n",
      "Measuring childrens visual access to social information using face detection\n",
      "measuring children's visual access to social information using face detection\n",
      "An integrated model of concept learning and word-concept mapping\n",
      "an integrated model of concept learning and word-concept mapping\n",
      "Modeling disambiguation in word learning via multiple probabilistic constraints\n",
      "modeling disambiguation in word learning via multiple probabilistic constraints\n",
      "Developmental and postural changes in childrens visual access to faces\n",
      "developmental and postural changes in children’s visual access to faces\n",
      "The development of predictive processes in childrens discourse understanding\n",
      "the development of predictive processes in children’s discourse understanding\n",
      "Learning to Reason Pragmatically with Cognitive Limitations\n",
      "learning to reason pragmatically with cognitive limitations\n",
      "The structure of the lexicon reflects principles of communication\n",
      "the structure of the lexicon reflects principles of communication\n",
      "A pragmatic account of the processing of negative sentences\n",
      "a pragmatic account of the processing of negative sentences\n",
      "Discovering the Signatures of Joint Attention in Child-Caregiver Interaction\n",
      "discovering the signatures of joint attention in child-caregiver interaction\n",
      "Talking with tact Polite language as a balance between informativity and kindness\n",
      "talking with tact: polite language as a balance between kindness and informativity\n",
      "Linguistic input is tuned to childrens developmental level\n",
      "linguistic input is tuned to children’s developmental level\n",
      "\n",
      "cannot find: effects of language on color discriminability\n",
      "\n",
      "cannot find: how do presentation and context influence representation for functional fixedness tasks?\n"
     ]
    }
   ],
   "source": [
    "label='m_frank'\n",
    "titles=['Exploring word learning in a high-density longitudinal corpus',\n",
    "       'Ad-hoc scalar implicature in adults and children',\n",
    "       'The structure of the lexicon reflects principles of communication',\n",
    "       'Effects of language on color discriminability',\n",
    "       'Informative communication in word production and word learning',\n",
    "       'Relating activity contexts to early word learning in dense longitudinal data',\n",
    "       'The learnability of constructed languages reflects typological patterns',\n",
    "       'The development of predictive processes in children’s discourse understanding',\n",
    "       'Developmental and postural changes in children’s visual access to faces',\n",
    "       'Cross-situational word learning respects mutual exclusivity',\n",
    "       \"Contributions of prosodic and distributional features of caregivers' speech in early word \",\n",
    "       \"Language as a cognitive technology: English-speakers match like pirahã when you don't let them count\",\n",
    "       'Continuity of discourse provides information for word learning',\n",
    "       'How do presentation and context influence representation for functional fixedness tasks?',\n",
    "       'A pragmatic account of the processing of negative sentences',\n",
    "       'Beyond transitional probabilities: Human learners impose a parsimony bias in statistical word segmentation',\n",
    "       'Discovering the signatures of joint attention in child-caregiver interaction',\n",
    "       'Learning to reason pragmatically with cognitive limitations',\n",
    "       'Talking with tact: Polite language as a balance between kindness and informativity',\n",
    "       'Linguistic input is tuned to children’s developmental level',\n",
    "       'An integrated model of concept learning and word-concept mapping',\n",
    "       'Markers of discourse structure in child-directed speech',\n",
    "       'Modeling disambiguation in word learning via multiple probabilistic constraints',\n",
    "       \"Measuring children's visual access to social information using face detection\",\n",
    "       \"Principles of generalization for learning sequential structure in language\"]\n",
    "lab_summary(titles,label)"
   ]
  },
  {
   "cell_type": "code",
   "execution_count": 43,
   "metadata": {
    "collapsed": false
   },
   "outputs": [
    {
     "name": "stdout",
     "output_type": "stream",
     "text": [
      "A Knowledge-Resonance (KRES) Model of Category Learning\n",
      "a knowledge resonance (kres) model of category learning\n",
      "Eyetracking as an Implicit Measure of Category-Based Induction\n",
      "eyetracking as an implicit measure of category-based induction\n"
     ]
    }
   ],
   "source": [
    "label='Murphy'\n",
    "titles=['A knowledge resonance (KRES) model of category learning','Eyetracking as an implicit measure of category-based induction']\n",
    "(doclist,titlelist,mtops,meantpfreq)=lab_summary(titles,label)\n"
   ]
  }
 ],
 "metadata": {
  "anaconda-cloud": {},
  "kernelspec": {
   "display_name": "Python [Root]",
   "language": "python",
   "name": "Python [Root]"
  },
  "language_info": {
   "codemirror_mode": {
    "name": "ipython",
    "version": 3
   },
   "file_extension": ".py",
   "mimetype": "text/x-python",
   "name": "python",
   "nbconvert_exporter": "python",
   "pygments_lexer": "ipython3",
   "version": "3.5.2"
  }
 },
 "nbformat": 4,
 "nbformat_minor": 0
}
